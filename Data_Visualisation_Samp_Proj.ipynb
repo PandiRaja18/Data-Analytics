{
  "nbformat": 4,
  "nbformat_minor": 0,
  "metadata": {
    "colab": {
      "name": "Data_Visualisation-Samp_Proj.ipynb",
      "provenance": [],
      "collapsed_sections": [],
      "authorship_tag": "ABX9TyPsRVtvznzzN4ZWvQJDmQQS",
      "include_colab_link": true
    },
    "kernelspec": {
      "name": "python3",
      "display_name": "Python 3"
    },
    "language_info": {
      "name": "python"
    }
  },
  "cells": [
    {
      "cell_type": "markdown",
      "metadata": {
        "id": "view-in-github",
        "colab_type": "text"
      },
      "source": [
        "<a href=\"https://colab.research.google.com/github/PandiRaja18/Data-Analytics/blob/main/Data_Visualisation_Samp_Proj.ipynb\" target=\"_parent\"><img src=\"https://colab.research.google.com/assets/colab-badge.svg\" alt=\"Open In Colab\"/></a>"
      ]
    },
    {
      "cell_type": "code",
      "metadata": {
        "id": "SnwwM3nFStYG"
      },
      "source": [
        "import numpy as np\n",
        "import pandas as pd\n",
        "import matplotlib.pyplot as plt\n",
        "import seaborn as sb\n",
        "%matplotlib inline"
      ],
      "execution_count": null,
      "outputs": []
    },
    {
      "cell_type": "code",
      "metadata": {
        "id": "vBQ0vPsJhciz"
      },
      "source": [
        "import warnings\n",
        "warnings.simplefilter(action='ignore', category=FutureWarning)"
      ],
      "execution_count": 53,
      "outputs": []
    },
    {
      "cell_type": "code",
      "metadata": {
        "id": "doC-DqcPTZ_W"
      },
      "source": [
        "flights=pd.read_csv('/content/flights_data.csv')\n",
        "print(flights.shape)\n",
        "flights.head()"
      ],
      "execution_count": null,
      "outputs": []
    },
    {
      "cell_type": "markdown",
      "metadata": {
        "id": "AmlzQtM5UP9u"
      },
      "source": [
        "**Bar Charts :**"
      ]
    },
    {
      "cell_type": "code",
      "metadata": {
        "id": "sruv6K9KTaeG"
      },
      "source": [
        "sb.countplot(data=flights,x='Source')\n",
        "plt.ylabel('Number of Flights',fontsize=14)\n",
        "plt.xlabel('Source',fontsize=13)"
      ],
      "execution_count": null,
      "outputs": []
    },
    {
      "cell_type": "markdown",
      "metadata": {
        "id": "0NQrfi5uVSuu"
      },
      "source": [
        "Base Color - **Blue**"
      ]
    },
    {
      "cell_type": "code",
      "metadata": {
        "id": "d_MkcCTXTZ8P"
      },
      "source": [
        "baseColor=sb.color_palette()[0]\n",
        "sb.countplot(data=flights , x='Source' , color=baseColor)\n",
        "plt.xticks(rotation=30)"
      ],
      "execution_count": null,
      "outputs": []
    },
    {
      "cell_type": "markdown",
      "metadata": {
        "id": "27LNL_yvV2Zt"
      },
      "source": [
        "Base Color - **Orange**"
      ]
    },
    {
      "cell_type": "code",
      "metadata": {
        "id": "zyGhsEDkVfHr"
      },
      "source": [
        "baseColor=sb.color_palette()[1]\n",
        "genOrder=flights['Source'].value_counts().index\n",
        "sb.countplot(data=flights,x='Source',color=baseColor,order=genOrder)"
      ],
      "execution_count": null,
      "outputs": []
    },
    {
      "cell_type": "markdown",
      "metadata": {
        "id": "AyurQUUgXSat"
      },
      "source": [
        "Base Color- **Green**"
      ]
    },
    {
      "cell_type": "code",
      "metadata": {
        "id": "B4HSh0KlVe7r"
      },
      "source": [
        "baseColor=sb.color_palette()[2]\n",
        "sb.countplot(data=flights,x='Airline',color=baseColor)\n",
        "#Rotate the X-axis value to 90 degree to increase the readability.\n",
        "plt.xticks(rotation=90)"
      ],
      "execution_count": null,
      "outputs": []
    },
    {
      "cell_type": "markdown",
      "metadata": {
        "id": "PBF2OtmIYUvo"
      },
      "source": [
        "**Put Airline in Y-axis**"
      ]
    },
    {
      "cell_type": "code",
      "metadata": {
        "id": "t-MiACVwVezv"
      },
      "source": [
        "baseColor=sb.color_palette()[2]\n",
        "sb.countplot(data=flights,y='Airline',color=baseColor)"
      ],
      "execution_count": null,
      "outputs": []
    },
    {
      "cell_type": "markdown",
      "metadata": {
        "id": "dWC366euYzjo"
      },
      "source": [
        "**Count Missing Data**"
      ]
    },
    {
      "cell_type": "code",
      "metadata": {
        "colab": {
          "base_uri": "https://localhost:8080/"
        },
        "id": "1kjYrwAfVelz",
        "outputId": "609a11f2-090a-4dfc-c68f-541b48cb1385"
      },
      "source": [
        "flights.isna().sum()"
      ],
      "execution_count": null,
      "outputs": [
        {
          "output_type": "execute_result",
          "data": {
            "text/plain": [
              "Airline               0\n",
              "Date_of_Journey       0\n",
              "Source                0\n",
              "Destination           0\n",
              "Route                16\n",
              "Dep_Time              0\n",
              "Arrival_Time          0\n",
              "Duration(minutes)     0\n",
              "Total_Stops          27\n",
              "Additional_Info       0\n",
              "Price                 0\n",
              "dtype: int64"
            ]
          },
          "metadata": {
            "tags": []
          },
          "execution_count": 18
        }
      ]
    },
    {
      "cell_type": "markdown",
      "metadata": {
        "id": "Bg-q51ZPZ74L"
      },
      "source": [
        "**Bar Chart for Missing Data**"
      ]
    },
    {
      "cell_type": "code",
      "metadata": {
        "id": "-3r1j2FvVeSb"
      },
      "source": [
        "naCounts=flights.isna().sum()\n",
        "baseColor=sb.color_palette()[0]\n",
        "sb.barplot(naCounts.index.values , naCounts , color=baseColor)\n",
        "plt.xticks(rotation=90)\n",
        "plt.ylabel('Number of Missing Values',fontsize=12)"
      ],
      "execution_count": null,
      "outputs": []
    },
    {
      "cell_type": "markdown",
      "metadata": {
        "id": "vbWq-4lPahg7"
      },
      "source": [
        "**Pie** **Charts** **:**"
      ]
    },
    {
      "cell_type": "code",
      "metadata": {
        "id": "ah7Klz_JaKWS"
      },
      "source": [
        "sorted_count=flights['Destination'].value_counts()\n",
        "plt.pie(sorted_count,labels=sorted_count.index,\n",
        "        startangle=90,counterclock=False)\n",
        "plt.axis('square')\n",
        "plt.title('Flight\\'s Destination')\n"
      ],
      "execution_count": null,
      "outputs": []
    },
    {
      "cell_type": "markdown",
      "metadata": {
        "id": "5RH9hbUyboiD"
      },
      "source": [
        "**Doughnut Chart**"
      ]
    },
    {
      "cell_type": "code",
      "metadata": {
        "id": "z_LsmDP1aKOW"
      },
      "source": [
        "sorted_count=flights['Destination'].value_counts()\n",
        "#Inorder to avoid meta Data put 'Semi colon' at the end of the Statements.\n",
        "plt.pie(sorted_count,labels=sorted_count.index,\n",
        "        startangle=90,counterclock=False,wedgeprops = {'width':0.4});\n",
        "plt.axis('Square');"
      ],
      "execution_count": null,
      "outputs": []
    },
    {
      "cell_type": "markdown",
      "metadata": {
        "id": "BLoeeCzIc-j-"
      },
      "source": [
        "**Histogram** **:**"
      ]
    },
    {
      "cell_type": "code",
      "metadata": {
        "id": "b6ZdZf6daJ-6"
      },
      "source": [
        "plt.hist(data=flights , x='Duration(minutes)')"
      ],
      "execution_count": null,
      "outputs": []
    },
    {
      "cell_type": "code",
      "metadata": {
        "id": "WoLTUPtpaJ77"
      },
      "source": [
        "plt.hist(data=flights , x='Price' , bins=20)"
      ],
      "execution_count": null,
      "outputs": []
    },
    {
      "cell_type": "code",
      "metadata": {
        "id": "rQFQouNteDPK"
      },
      "source": [
        "bins=np.arange(0,flights['Price'].max()+1,1200)\n",
        "plt.hist(data=flights , x='Price' , bins=bins)\n",
        "plt.show()"
      ],
      "execution_count": null,
      "outputs": []
    },
    {
      "cell_type": "code",
      "metadata": {
        "id": "JUwEpoB6ev3u"
      },
      "source": [
        "sb.distplot(flights['Price']);"
      ],
      "execution_count": null,
      "outputs": []
    },
    {
      "cell_type": "code",
      "metadata": {
        "id": "qxcse8OhevtU"
      },
      "source": [
        "sb.distplot(flights['Price'] , kde=False);"
      ],
      "execution_count": null,
      "outputs": []
    },
    {
      "cell_type": "code",
      "metadata": {
        "colab": {
          "base_uri": "https://localhost:8080/",
          "height": 279
        },
        "id": "kwGF1wJqevqM",
        "outputId": "55ecdd1b-e14f-4fa0-a7a3-57f926f25515"
      },
      "source": [
        "bin_edges=np.arange(0 , flights['Price'].max()+1,1200)\n",
        "sb.distplot(flights['Price'], bins=bin_edges , kde=False, hist_kws={'alpha' : 1});"
      ],
      "execution_count": 56,
      "outputs": [
        {
          "output_type": "display_data",
          "data": {
            "image/png": "[encoded data removed]",
            "text/plain": [
              "<Figure size 432x288 with 1 Axes>"
            ]
          },
          "metadata": {
            "tags": [],
            "needs_background": "light"
          }
        }
      ]
    }
  ]
}